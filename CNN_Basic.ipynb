{
  "nbformat": 4,
  "nbformat_minor": 0,
  "metadata": {
    "colab": {
      "name": "CNN_Basic.ipynb",
      "provenance": [],
      "collapsed_sections": [],
      "toc_visible": true,
      "include_colab_link": true
    },
    "kernelspec": {
      "display_name": "Python 3",
      "name": "python3"
    }
  },
  "cells": [
    {
      "cell_type": "markdown",
      "metadata": {
        "id": "view-in-github",
        "colab_type": "text"
      },
      "source": [
        "<a href=\"https://colab.research.google.com/github/Kiran98780/Computer-Vision/blob/CNN-Classification/CNN_Basic.ipynb\" target=\"_parent\"><img src=\"https://colab.research.google.com/assets/colab-badge.svg\" alt=\"Open In Colab\"/></a>"
      ]
    },
    {
      "cell_type": "markdown",
      "metadata": {
        "id": "DSPCom-KmApV"
      },
      "source": [
        "# Convolutional Neural Network (CNN)"
      ]
    },
    {
      "cell_type": "markdown",
      "metadata": {
        "id": "qLGkt5qiyz4E"
      },
      "source": [
        "This tutorial demonstrates training a simple [Convolutional Neural Network](https://developers.google.com/machine-learning/glossary/#convolutional_neural_network) (CNN) to classify [NEU-DET dataset](http://faculty.neu.edu.cn/yunhyan/NEU_surface_defect_database.html). Because this tutorial uses the [Keras Sequential API](https://www.tensorflow.org/guide/keras/overview), creating and training your model will take just a few lines of code.\n"
      ]
    },
    {
      "cell_type": "markdown",
      "metadata": {
        "id": "m7KBpffWzlxH"
      },
      "source": [
        "### Import TensorFlow"
      ]
    },
    {
      "cell_type": "code",
      "metadata": {
        "id": "iAve6DCL4JH4"
      },
      "source": [
        "import tensorflow as tf\n",
        "\n",
        "from tensorflow.keras import datasets, layers, models\n",
        "import matplotlib.pyplot as plt"
      ],
      "execution_count": 1,
      "outputs": []
    },
    {
      "cell_type": "code",
      "metadata": {
        "colab": {
          "base_uri": "https://localhost:8080/"
        },
        "id": "uScvsXL_v72T",
        "outputId": "59894b7b-cb61-4eeb-df13-351a2904d6cc"
      },
      "source": [
        "from google.colab import drive\n",
        "drive.mount('/content/gdrive')"
      ],
      "execution_count": 2,
      "outputs": [
        {
          "output_type": "stream",
          "text": [
            "Mounted at /content/gdrive\n"
          ],
          "name": "stdout"
        }
      ]
    },
    {
      "cell_type": "markdown",
      "metadata": {
        "id": "jRFxccghyMVo"
      },
      "source": [
        "### Download and prepare the CIFAR10 dataset\n",
        "\n",
        "\n",
        "The NEU-DET dataset contains 1800 grayscale images in 6 classes, with 300 images in each class. The dataset is divided into 70% training images and 15% testing images and 15% validation images. The classes are mutually exclusive and there is no overlap between them."
      ]
    },
    {
      "cell_type": "code",
      "metadata": {
        "id": "Sjgk588iyAUx"
      },
      "source": [
        "# %cd /content/gdrive/MyDrive/Mask_RCNN/images/NEU-DET/NEU-DET/imgs_sample/\n"
      ],
      "execution_count": 3,
      "outputs": []
    },
    {
      "cell_type": "code",
      "metadata": {
        "id": "XDUeTPBfvh3s"
      },
      "source": [
        "# from PIL import Image\n",
        "# import os, numpy as np\n",
        "# ROOT_DIR = os.path.abspath(\"./\") \n",
        "# read = lambda imname: np.asarray(Image.open(imname).convert(\"RGB\"))\n",
        "# ims = [read(os.path.join(ROOT_DIR, filename)) for filename in os.listdir(ROOT_DIR)]\n",
        "# all_images = np.array(ims, dtype='uint8')\n",
        "# print(all_images.shape)\n",
        "# n = len(all_images)\n",
        "# train_images = all_images[0:2]\n",
        "# test_images = all_images[-2:] #20% is taken as test images"
      ],
      "execution_count": 4,
      "outputs": []
    },
    {
      "cell_type": "code",
      "metadata": {
        "id": "skReRsHCJJcI"
      },
      "source": [
        ""
      ],
      "execution_count": 4,
      "outputs": []
    },
    {
      "cell_type": "markdown",
      "metadata": {
        "id": "UPKbwuX1JKF0"
      },
      "source": [
        "**Set training images**"
      ]
    },
    {
      "cell_type": "code",
      "metadata": {
        "colab": {
          "base_uri": "https://localhost:8080/"
        },
        "id": "JB-bZCoaukeb",
        "outputId": "2b19c5d7-3688-43a8-f412-877928a4cbf5"
      },
      "source": [
        "%cd /content/gdrive/MyDrive/Mask_RCNN/Defect\\ Detection/train"
      ],
      "execution_count": 5,
      "outputs": [
        {
          "output_type": "stream",
          "text": [
            "[Errno 2] No such file or directory: '/content/gdrive/MyDrive/Mask_RCNN/Defect Detection/train'\n",
            "/content\n"
          ],
          "name": "stdout"
        }
      ]
    },
    {
      "cell_type": "code",
      "metadata": {
        "colab": {
          "base_uri": "https://localhost:8080/"
        },
        "id": "Fag_QV9KdKu2",
        "outputId": "83c3b73c-9119-4c92-b1e9-cc6e6bf22dd1"
      },
      "source": [
        "from PIL import Image\n",
        "import os, numpy as np\n",
        "ROOT_DIR = os.path.abspath(\"./\") \n",
        "# exts = '*.jpg'\n",
        "# fnames = [glob.glob(ext)]\n",
        "# fnames = list(itertools.chain.from_iterable(fnames))\n",
        "read = lambda imname: np.asarray(Image.open(imname).convert(\"RGB\"))\n",
        "train_ims = [read(os.path.join(ROOT_DIR, filename)) for filename in os.listdir(ROOT_DIR) if filename.endswith(\".jpg\")]\n",
        "train_images = np.array(train_ims, dtype='uint8')\n",
        "print(train_images.shape)"
      ],
      "execution_count": 6,
      "outputs": [
        {
          "output_type": "stream",
          "text": [
            "(0,)\n"
          ],
          "name": "stdout"
        }
      ]
    },
    {
      "cell_type": "markdown",
      "metadata": {
        "id": "UbZPbEq_JO8s"
      },
      "source": [
        "**Set training labels**"
      ]
    },
    {
      "cell_type": "code",
      "metadata": {
        "id": "x5p5LjJ851ge"
      },
      "source": [
        "import numpy\n"
      ],
      "execution_count": 7,
      "outputs": []
    },
    {
      "cell_type": "code",
      "metadata": {
        "colab": {
          "base_uri": "https://localhost:8080/"
        },
        "id": "MsGQ_xTWvCbl",
        "outputId": "741a28d7-501e-43eb-b9cf-3db43eef0fed"
      },
      "source": [
        "train_labels = os.listdir(ROOT_DIR)\n",
        "label_encoded_list = []\n",
        "for i, imagename in enumerate(train_labels):\n",
        "  if imagename.endswith(\".jpg\"):\n",
        "    im=Image.open(os.path.join(ROOT_DIR,imagename))\n",
        "    img_name = im.filename\n",
        "    # print(img_name.split('/')[-1].split('_')[-2],type(img_name))\n",
        "    filename = img_name.split('/')[-1].split('_')[-2]\n",
        "    label_encoded_list.append([0 if filename == \"crazing\" else 1 if filename == \"inclusion\" else 2 if filename == \"patches\" else 3 if filename == \"surface\" else 4 if filename == \"scale\" else 5 if filename == \"scratches\" else -1] )\n",
        "train_labels = numpy.array(label_encoded_list)\n",
        "print(train_labels.shape)"
      ],
      "execution_count": 8,
      "outputs": [
        {
          "output_type": "stream",
          "text": [
            "(0,)\n"
          ],
          "name": "stdout"
        }
      ]
    },
    {
      "cell_type": "markdown",
      "metadata": {
        "id": "hrwyje4cJTcc"
      },
      "source": [
        "**Set test images**"
      ]
    },
    {
      "cell_type": "code",
      "metadata": {
        "colab": {
          "base_uri": "https://localhost:8080/"
        },
        "id": "CRoD-JsEumOd",
        "outputId": "753da283-b9e0-447f-97d3-04374d7a40c5"
      },
      "source": [
        "%cd /content/gdrive/MyDrive/Mask_RCNN/Defect\\ Detection/test"
      ],
      "execution_count": 9,
      "outputs": [
        {
          "output_type": "stream",
          "text": [
            "[Errno 2] No such file or directory: '/content/gdrive/MyDrive/Mask_RCNN/Defect Detection/test'\n",
            "/content\n"
          ],
          "name": "stdout"
        }
      ]
    },
    {
      "cell_type": "code",
      "metadata": {
        "colab": {
          "base_uri": "https://localhost:8080/"
        },
        "id": "AoJy9fLcuU6s",
        "outputId": "5a749603-4e81-464d-abe3-fd249a834c1e"
      },
      "source": [
        "ROOT_DIR = os.path.abspath(\"./\") \n",
        "read = lambda imname: np.asarray(Image.open(imname).convert(\"RGB\"))\n",
        "test_ims = [read(os.path.join(ROOT_DIR, filename)) for filename in os.listdir(ROOT_DIR) if filename.endswith(\".jpg\") ]\n",
        "test_images = np.array(test_ims, dtype='uint8')\n",
        "print(test_images.shape)"
      ],
      "execution_count": 10,
      "outputs": [
        {
          "output_type": "stream",
          "text": [
            "(0,)\n"
          ],
          "name": "stdout"
        }
      ]
    },
    {
      "cell_type": "markdown",
      "metadata": {
        "id": "XDk3Fs_5JYaL"
      },
      "source": [
        "**Set test labels**"
      ]
    },
    {
      "cell_type": "code",
      "metadata": {
        "colab": {
          "base_uri": "https://localhost:8080/"
        },
        "id": "C3VQJ0xgu4EE",
        "outputId": "b7503a76-77ee-46a7-da2a-bc8ac3d62bc6"
      },
      "source": [
        "ROOT_DIR = os.path.abspath(\"./\") \n",
        "\n",
        "test_labels = os.listdir(ROOT_DIR)\n",
        "label_encoded_list = []\n",
        "filename_list = []\n",
        "for i, imagename in enumerate(test_labels):\n",
        "  if imagename.endswith(\".jpg\"):\n",
        "    im=Image.open(os.path.join(ROOT_DIR,imagename))\n",
        "    img_name = im.filename\n",
        "    filename = img_name.split('/')[-1].split('_')[-2]\n",
        "    filename_list.append(filename)\n",
        "    label_encoded_list.append([0 if filename == \"crazing\" else 1 if filename == \"inclusion\" else 2 if filename == \"patches\" else 3 if filename == \"surface\" else 4 if filename == \"scale\" else 5 if filename == \"scratches\" else -1] )\n",
        "test_labels = numpy.array(label_encoded_list)\n",
        "print(test_labels.shape)"
      ],
      "execution_count": 11,
      "outputs": [
        {
          "output_type": "stream",
          "text": [
            "(0,)\n"
          ],
          "name": "stdout"
        }
      ]
    },
    {
      "cell_type": "code",
      "metadata": {
        "colab": {
          "base_uri": "https://localhost:8080/"
        },
        "id": "tKQJR2mEv1No",
        "outputId": "6e1f7d08-55a9-4a50-b6bd-73caf51247be"
      },
      "source": [
        "myset = set(filename_list)\n",
        "print(myset)"
      ],
      "execution_count": 12,
      "outputs": [
        {
          "output_type": "stream",
          "text": [
            "set()\n"
          ],
          "name": "stdout"
        }
      ]
    },
    {
      "cell_type": "code",
      "metadata": {
        "colab": {
          "base_uri": "https://localhost:8080/",
          "height": 231
        },
        "id": "E6NMOkIvy5F6",
        "outputId": "579e1002-c3dc-43f3-847b-f029e221ff4d"
      },
      "source": [
        "import numpy\n",
        "from numpy import asarray\n",
        "\n",
        "image = train_images[0] #first image in the numpy array \n",
        "pixels = asarray(image)\n",
        "# confirm pixel range is 0-255\n",
        "print('Data Type: %s' % pixels.dtype)\n",
        "print('Min: %.3f, Max: %.3f' % (pixels.min(), pixels.max()))\n",
        "# convert from integers to floats\n",
        "pixels = pixels.astype('float32')\n",
        "# normalize to the range 0-1\n",
        "pixels /= 255.0\n",
        "# confirm the normalization\n",
        "print('Min: %.3f, Max: %.3f' % (pixels.min(), pixels.max()))"
      ],
      "execution_count": 13,
      "outputs": [
        {
          "output_type": "error",
          "ename": "IndexError",
          "evalue": "ignored",
          "traceback": [
            "\u001b[0;31m---------------------------------------------------------------------------\u001b[0m",
            "\u001b[0;31mIndexError\u001b[0m                                Traceback (most recent call last)",
            "\u001b[0;32m<ipython-input-13-3af054a95ebc>\u001b[0m in \u001b[0;36m<module>\u001b[0;34m()\u001b[0m\n\u001b[1;32m      2\u001b[0m \u001b[0;32mfrom\u001b[0m \u001b[0mnumpy\u001b[0m \u001b[0;32mimport\u001b[0m \u001b[0masarray\u001b[0m\u001b[0;34m\u001b[0m\u001b[0;34m\u001b[0m\u001b[0m\n\u001b[1;32m      3\u001b[0m \u001b[0;34m\u001b[0m\u001b[0m\n\u001b[0;32m----> 4\u001b[0;31m \u001b[0mimage\u001b[0m \u001b[0;34m=\u001b[0m \u001b[0mtrain_images\u001b[0m\u001b[0;34m[\u001b[0m\u001b[0;36m0\u001b[0m\u001b[0;34m]\u001b[0m \u001b[0;31m#first image in the numpy array\u001b[0m\u001b[0;34m\u001b[0m\u001b[0;34m\u001b[0m\u001b[0m\n\u001b[0m\u001b[1;32m      5\u001b[0m \u001b[0mpixels\u001b[0m \u001b[0;34m=\u001b[0m \u001b[0masarray\u001b[0m\u001b[0;34m(\u001b[0m\u001b[0mimage\u001b[0m\u001b[0;34m)\u001b[0m\u001b[0;34m\u001b[0m\u001b[0;34m\u001b[0m\u001b[0m\n\u001b[1;32m      6\u001b[0m \u001b[0;31m# confirm pixel range is 0-255\u001b[0m\u001b[0;34m\u001b[0m\u001b[0;34m\u001b[0m\u001b[0;34m\u001b[0m\u001b[0m\n",
            "\u001b[0;31mIndexError\u001b[0m: index 0 is out of bounds for axis 0 with size 0"
          ]
        }
      ]
    },
    {
      "cell_type": "code",
      "metadata": {
        "id": "zQkZrZOi1Eg6"
      },
      "source": [
        "# all_images = all_images / 255.0 #normalisation\n",
        "train_images = train_images / 255.0\n",
        "test_images = test_images / 255.0"
      ],
      "execution_count": null,
      "outputs": []
    },
    {
      "cell_type": "code",
      "metadata": {
        "id": "1iT_6dBCCTBE"
      },
      "source": [
        "# import numpy\n",
        "\n",
        "# all_images1 = os.listdir(ROOT_DIR)\n",
        "# label_encoded_list = []\n",
        "# for i, imagename in enumerate(all_images1):\n",
        "#     im=Image.open(os.path.join(ROOT_DIR,imagename))\n",
        "#     img_name = im.filename\n",
        "#     # print(img_name.split('/')[-1].split('_')[-2],type(img_name))\n",
        "#     filename = img_name.split('/')[-1].split('_')[-2]\n",
        "#     label_encoded_list.append([0 if filename == \"crazing\" else 1 if filename == \"inclusion\" else 2 if filename == \"patches\" else 3 if filename == \"pitted\" else 4 if filename == \"rolled-in\" else 5 if filename == \"scratches\" else -1] )\n",
        "# all_labels = numpy.array(label_encoded_list)\n",
        "# train_labels = all_labels[0:2]\n",
        "# test_labels = all_labels[-2:] #20% is taken as test images"
      ],
      "execution_count": null,
      "outputs": []
    },
    {
      "cell_type": "code",
      "metadata": {
        "id": "bQUFcOUtdY2P"
      },
      "source": [
        ""
      ],
      "execution_count": null,
      "outputs": []
    },
    {
      "cell_type": "code",
      "metadata": {
        "id": "JWoEqyMuXFF4"
      },
      "source": [
        "# (train_images, train_labels), (test_images, test_labels) = datasets.cifar10.load_data()\n",
        "\n",
        "# # Normalize pixel values to be between 0 and 1\n",
        "# train_images, test_images = train_images / 255.0, test_images / 255.0"
      ],
      "execution_count": null,
      "outputs": []
    },
    {
      "cell_type": "code",
      "metadata": {
        "id": "QoGz8ohE2oe7"
      },
      "source": [
        "# !pip install mahotas\n",
        "# from imutils import paths\n",
        "# import numpy as np\n",
        "# import sys\n",
        "# import cv2\n",
        "# import os\n",
        "# import mahotas as mt\n",
        "# data =[]\n",
        "# np.set_printoptions(threshold=sys.maxsize)\n",
        "# # pathswave=r'C:\\Users\\Bsi\\Desktop\\PFE2\\Base2\\dataset\\wave'\n",
        "# imagePaths = list(paths.list_images(ROOT_DIR)) #multiple\n",
        "# for imagePath in imagePaths:\n",
        "#    label = imagePath.split(os.path.sep)[-2]\n",
        "#   #  label = img_name.split('\\\\')[-1]\n",
        "#    image = cv2.imread(imagePath)\n",
        "#    image = cv2.cvtColor(image, cv2.COLOR_BGR2GRAY)\n",
        "#    image = cv2.blur(image,(3,3))\n",
        "#    image = cv2.resize(image, (200, 200))\n",
        "#    textures = mt.features.haralick(image)\n",
        "#    feat = textures.mean(axis=0)\n",
        "#    data.append(feat)\n",
        "#    data.append(label)\n",
        "# print(np.array(data))"
      ],
      "execution_count": null,
      "outputs": []
    },
    {
      "cell_type": "markdown",
      "metadata": {
        "id": "7wArwCTJJlUa"
      },
      "source": [
        "### Verify the data\n",
        "\n",
        "To verify that the dataset looks correct, let's plot the first 25 images from the training set and display the class name below each image:\n"
      ]
    },
    {
      "cell_type": "code",
      "metadata": {
        "id": "K3PAELE2eSU9"
      },
      "source": [
        "# class_names = ['airplane', 'automobile', 'bird', 'cat', 'deer',\n",
        "#                'dog', 'frog', 'horse', 'ship', 'truck']\n",
        "class_names = ['crazing', 'inclusion', 'patches', 'pitted', 'rolled-in',\n",
        "               'scratches']\n",
        "plt.figure(figsize=(10,10))\n",
        "for i in range(25):\n",
        "    plt.subplot(5,5,i+1)\n",
        "    plt.xticks([])\n",
        "    plt.yticks([])\n",
        "    plt.grid(False)\n",
        "    plt.imshow(train_images[i])\n",
        "    # The CIFAR labels happen to be arrays, \n",
        "    # which is why you need the extra index\n",
        "    plt.xlabel(class_names[train_labels[i][0]])\n",
        "plt.show()"
      ],
      "execution_count": null,
      "outputs": []
    },
    {
      "cell_type": "markdown",
      "metadata": {
        "id": "Oewp-wYg31t9"
      },
      "source": [
        "### Create the convolutional base"
      ]
    },
    {
      "cell_type": "markdown",
      "metadata": {
        "id": "3hQvqXpNyN3x"
      },
      "source": [
        "The 6 lines of code below define the convolutional base using a common pattern: a stack of [Conv2D](https://www.tensorflow.org/api_docs/python/tf/keras/layers/Conv2D) and [MaxPooling2D](https://www.tensorflow.org/api_docs/python/tf/keras/layers/MaxPool2D) layers.\n",
        "\n",
        "As input, a CNN takes tensors of shape (image_height, image_width, color_channels), ignoring the batch size. If you are new to these dimensions, color_channels refers to (R,G,B). In this example, you will configure your CNN to process inputs of shape (32, 32, 3), which is the format of CIFAR images. You can do this by passing the argument `input_shape` to your first layer.\n"
      ]
    },
    {
      "cell_type": "code",
      "metadata": {
        "id": "L9YmGQBQPrdn"
      },
      "source": [
        "model = models.Sequential()\n",
        "model.add(layers.Conv2D(32, (3, 3), activation='relu', input_shape=(200, 200, 3)))\n",
        "model.add(layers.MaxPooling2D((2, 2)))\n",
        "model.add(layers.Conv2D(64, (3, 3), activation='relu'))\n",
        "model.add(layers.MaxPooling2D((2, 2)))\n",
        "model.add(layers.Conv2D(64, (3, 3), activation='relu'))"
      ],
      "execution_count": null,
      "outputs": []
    },
    {
      "cell_type": "markdown",
      "metadata": {
        "id": "lvDVFkg-2DPm"
      },
      "source": [
        "Let's display the architecture of your model so far:"
      ]
    },
    {
      "cell_type": "code",
      "metadata": {
        "id": "8-C4XBg4UTJy"
      },
      "source": [
        "model.summary()"
      ],
      "execution_count": null,
      "outputs": []
    },
    {
      "cell_type": "markdown",
      "metadata": {
        "id": "_j-AXYeZ2GO5"
      },
      "source": [
        "Above, you can see that the output of every Conv2D and MaxPooling2D layer is a 3D tensor of shape (height, width, channels). The width and height dimensions tend to shrink as you go deeper in the network. The number of output channels for each Conv2D layer is controlled by the first argument (e.g., 32 or 64). Typically,  as the width and height shrink, you can afford (computationally) to add more output channels in each Conv2D layer."
      ]
    },
    {
      "cell_type": "markdown",
      "metadata": {
        "id": "_v8sVOtG37bT"
      },
      "source": [
        "### Add Dense layers on top\n",
        "\n",
        "To complete the model, you will feed the last output tensor from the convolutional base (of shape (4, 4, 64)) into one or more Dense layers to perform classification. Dense layers take vectors as input (which are 1D), while the current output is a 3D tensor. First, you will flatten (or unroll) the 3D output to 1D,  then add one or more Dense layers on top. CIFAR has 10 output classes, so you use a final Dense layer with 10 outputs."
      ]
    },
    {
      "cell_type": "code",
      "metadata": {
        "id": "mRs95d6LUVEi"
      },
      "source": [
        "model.add(layers.Flatten())\n",
        "model.add(layers.Dense(64, activation='relu'))\n",
        "model.add(layers.Dense(10))\n"
      ],
      "execution_count": null,
      "outputs": []
    },
    {
      "cell_type": "markdown",
      "metadata": {
        "id": "ipGiQMcR4Gtq"
      },
      "source": [
        "Here's the complete architecture of your model:"
      ]
    },
    {
      "cell_type": "code",
      "metadata": {
        "id": "8Yu_m-TZUWGX"
      },
      "source": [
        "model.summary()"
      ],
      "execution_count": null,
      "outputs": []
    },
    {
      "cell_type": "markdown",
      "metadata": {
        "id": "xNKXi-Gy3RO-"
      },
      "source": [
        "The network summary shows that (4, 4, 64) outputs were flattened into vectors of shape (1024) before going through two Dense layers."
      ]
    },
    {
      "cell_type": "markdown",
      "metadata": {
        "id": "P3odqfHP4M67"
      },
      "source": [
        "### Compile and train the model"
      ]
    },
    {
      "cell_type": "code",
      "metadata": {
        "id": "7SEXG0JiaXqv"
      },
      "source": [
        "train_images.shape"
      ],
      "execution_count": null,
      "outputs": []
    },
    {
      "cell_type": "code",
      "metadata": {
        "id": "4oX2b6evbAVz"
      },
      "source": [
        "train_labels = np.uint8(train_labels)\n",
        "test_labels = np.uint8(test_labels)"
      ],
      "execution_count": null,
      "outputs": []
    },
    {
      "cell_type": "code",
      "metadata": {
        "id": "OZuodx8i83tR"
      },
      "source": [
        "numpy.unique(train_labels)\n",
        "numpy.unique(test_labels)"
      ],
      "execution_count": null,
      "outputs": []
    },
    {
      "cell_type": "code",
      "metadata": {
        "id": "MdDzI75PUXrG"
      },
      "source": [
        "model.compile(optimizer='adam',\n",
        "              loss=tf.keras.losses.SparseCategoricalCrossentropy(from_logits=True),\n",
        "              metrics=['accuracy'])\n",
        "# train_images = tf.stack(train_images)\n",
        "# train_labels = tf.stack(train_labels)\n",
        "history = model.fit(train_images, train_labels, epochs=10, validation_data=(test_images, test_labels))"
      ],
      "execution_count": null,
      "outputs": []
    },
    {
      "cell_type": "markdown",
      "metadata": {
        "id": "jKgyC5K_4O0d"
      },
      "source": [
        "### Evaluate the model"
      ]
    },
    {
      "cell_type": "code",
      "metadata": {
        "id": "gtyDF0MKUcM7"
      },
      "source": [
        "plt.plot(history.history['accuracy'], label='accuracy')\n",
        "plt.plot(history.history['val_accuracy'], label = 'val_accuracy')\n",
        "plt.xlabel('Epoch')\n",
        "plt.ylabel('Accuracy')\n",
        "plt.ylim([0.5, 1])\n",
        "plt.legend(loc='lower right')\n",
        "\n",
        "test_loss, test_acc = model.evaluate(test_images,  test_labels, verbose=2)"
      ],
      "execution_count": null,
      "outputs": []
    },
    {
      "cell_type": "code",
      "metadata": {
        "id": "0LvwaKhtUdOo"
      },
      "source": [
        "print(test_acc)"
      ],
      "execution_count": null,
      "outputs": []
    },
    {
      "cell_type": "markdown",
      "metadata": {
        "id": "8cfJ8AR03gT5"
      },
      "source": [
        "Your simple CNN has achieved a test accuracy of over 70%. Not bad for a few lines of code! For another CNN style, check out the [TensorFlow 2 quickstart for experts](https://www.tensorflow.org/tutorials/quickstart/advanced) example that uses the Keras subclassing API and `tf.GradientTape`."
      ]
    }
  ]
}